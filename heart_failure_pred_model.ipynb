{
  "cells": [
    {
      "cell_type": "markdown",
      "metadata": {
        "id": "3YkgE1gzzvDx"
      },
      "source": [
        "# **RETAIN heart failure detection**\n",
        "\n",
        "An implementation of [RETAIN: An Interpretable Predictive Model for Healthcare using Reverse Time Attention Mechanism](https://arxiv.org/abs/1608.05745) by Choi et al. to predict heart failure based on clinical records.\n",
        "\n",
        "I was playing around with one of my homeworks, you can watch the [lecture video directly from Coursera](https://www.coursera.org/lecture/advanced-deep-learning-methods-healthcare/applied-attention-models-retain-Ad5QN) to get a better understanding."
      ]
    },
    {
      "cell_type": "markdown",
      "metadata": {
        "id": "kUxhhon0Wpb1"
      },
      "source": [
        "### 1. Load libraries"
      ]
    },
    {
      "cell_type": "code",
      "execution_count": 350,
      "metadata": {
        "id": "p3m2pkyXWe9a"
      },
      "outputs": [],
      "source": [
        "import numpy as np\n",
        "import pandas as pd\n",
        "import pickle as pickle\n",
        "\n",
        "import torch\n",
        "import torch.nn as nn\n",
        "from matplotlib import pyplot as plt"
      ]
    },
    {
      "cell_type": "markdown",
      "metadata": {
        "id": "Zhlg8yPmaYu1"
      },
      "source": [
        "# **Prepare dataset:**"
      ]
    },
    {
      "cell_type": "markdown",
      "metadata": {
        "id": "t_WapQJYWzX3"
      },
      "source": [
        "### 2. Load dataset\n",
        "**Dataset consists of several files:**\n",
        "* **pids:** patient ID\n",
        "* **vids:** visit ID per patient\n",
        "* **hfs:** heart failures\n",
        "* **seqs:** sequences of ICD-9 clinical records per visit per patient\n",
        "* **types:** mapping of ICD-9 code to ID\n",
        "* **rtypes:** index mapping of ICD-9 ID, used to simplify code"
      ]
    },
    {
      "cell_type": "code",
      "execution_count": 351,
      "metadata": {
        "colab": {
          "base_uri": "https://localhost:8080/"
        },
        "id": "5gxJrwBlWKAH",
        "outputId": "c2519413-9439-48af-b5a7-3c29e921a23a"
      },
      "outputs": [],
      "source": [
        "pids = pd.read_pickle('dataset/pids.pkl')\n",
        "vids = pd.read_pickle('dataset/vids.pkl')\n",
        "hfs = pd.read_pickle('dataset/hfs.pkl')\n",
        "seqs = pd.read_pickle('dataset/seqs.pkl')\n",
        "types = pd.read_pickle('dataset/types.pkl')\n",
        "rtypes = pd.read_pickle('dataset/rtypes.pkl')"
      ]
    },
    {
      "cell_type": "markdown",
      "metadata": {
        "id": "oiABRJ7aXF6d"
      },
      "source": [
        "### 3. Data preview\n",
        "**Print some dataset stats:**"
      ]
    },
    {
      "cell_type": "code",
      "execution_count": 352,
      "metadata": {},
      "outputs": [
        {
          "name": "stdout",
          "output_type": "stream",
          "text": [
            "Total patients: 1000\n",
            "Total amount of visits: 2375\n",
            "Highest visit amount for a single patient: 30\n",
            "Total amount of clinical records: 27115\n",
            "Total amount of patients with heart failure: 548\n",
            "Rato of heart failure patients: 0.548\n"
          ]
        }
      ],
      "source": [
        "total_patients = len(pids)\n",
        "total_visits = len(pd.DataFrame(vids).stack())\n",
        "total_records = len(pd.DataFrame(seqs).stack().explode())\n",
        "total_hfs = sum(hfs)\n",
        "hfs_ratio = sum(hfs) / len(hfs)\n",
        "\n",
        "highest_visit_count = pd.DataFrame(vids).stack()\n",
        "highest_visit_count = highest_visit_count .groupby(level=0).count().max()\n",
        "\n",
        "print(f\"Total patients: {total_patients}\")\n",
        "print(f\"Total amount of visits: {total_visits}\")\n",
        "print(f\"Highest visit amount for a single patient: {highest_visit_count}\")\n",
        "print(f\"Total amount of clinical records: {total_records}\")\n",
        "print(f\"Total amount of patients with heart failure: {total_hfs}\")\n",
        "print(f\"Rato of heart failure patients: {hfs_ratio}\")"
      ]
    },
    {
      "cell_type": "markdown",
      "metadata": {},
      "source": [
        "**Get a single patient's data:**\n",
        "\n",
        "Patients have their ID, amount of visits and information if heart failure occured (that's what we want to predict)."
      ]
    },
    {
      "cell_type": "code",
      "execution_count": 353,
      "metadata": {},
      "outputs": [],
      "source": [
        "def get_patient_data(index):\n",
        "    patient_stats = pd.DataFrame({\n",
        "        \"ID\": pids[index],\n",
        "        \"Visits\": len(vids[index]),\n",
        "        \"Heart failure\": bool(hfs[index])\n",
        "    }, index=[index])\n",
        "\n",
        "    return patient_stats"
      ]
    },
    {
      "cell_type": "code",
      "execution_count": 354,
      "metadata": {},
      "outputs": [
        {
          "name": "stdout",
          "output_type": "stream",
          "text": [
            "\n",
            "Example patient:\n"
          ]
        },
        {
          "data": {
            "text/html": [
              "<div>\n",
              "<style scoped>\n",
              "    .dataframe tbody tr th:only-of-type {\n",
              "        vertical-align: middle;\n",
              "    }\n",
              "\n",
              "    .dataframe tbody tr th {\n",
              "        vertical-align: top;\n",
              "    }\n",
              "\n",
              "    .dataframe thead th {\n",
              "        text-align: right;\n",
              "    }\n",
              "</style>\n",
              "<table border=\"1\" class=\"dataframe\">\n",
              "  <thead>\n",
              "    <tr style=\"text-align: right;\">\n",
              "      <th></th>\n",
              "      <th>ID</th>\n",
              "      <th>Visits</th>\n",
              "      <th>Heart failure</th>\n",
              "    </tr>\n",
              "  </thead>\n",
              "  <tbody>\n",
              "    <tr>\n",
              "      <th>3</th>\n",
              "      <td>47537</td>\n",
              "      <td>2</td>\n",
              "      <td>False</td>\n",
              "    </tr>\n",
              "  </tbody>\n",
              "</table>\n",
              "</div>"
            ],
            "text/plain": [
              "      ID  Visits  Heart failure\n",
              "3  47537       2          False"
            ]
          },
          "execution_count": 354,
          "metadata": {},
          "output_type": "execute_result"
        }
      ],
      "source": [
        "print(\"\\nExample patient:\")\n",
        "get_patient_data(3)"
      ]
    },
    {
      "cell_type": "markdown",
      "metadata": {},
      "source": [
        "**Get data of a patient's visit**\n",
        "\n",
        "Each visit contains listed events according to their ID and ICD-9 code. Function `get_patient_visit` requires patient index (not ID) and visit id."
      ]
    },
    {
      "cell_type": "code",
      "execution_count": 355,
      "metadata": {},
      "outputs": [],
      "source": [
        "def get_patient_visit(index, visit):\n",
        "\n",
        "    patient_visit = pd.DataFrame({\n",
        "        'event_id': seqs[index][visit]\n",
        "    })\n",
        "\n",
        "    patient_visit['event'] = patient_visit.event_id.map(rtypes)\n",
        "\n",
        "    return patient_visit"
      ]
    },
    {
      "cell_type": "code",
      "execution_count": 356,
      "metadata": {
        "colab": {
          "base_uri": "https://localhost:8080/",
          "height": 538
        },
        "id": "u-RE51WiYkWp",
        "outputId": "e387ddc0-fe8d-46eb-c17c-a0e8730579a7"
      },
      "outputs": [
        {
          "name": "stdout",
          "output_type": "stream",
          "text": [
            "Details of patient visit:\n"
          ]
        },
        {
          "data": {
            "text/html": [
              "<div>\n",
              "<style scoped>\n",
              "    .dataframe tbody tr th:only-of-type {\n",
              "        vertical-align: middle;\n",
              "    }\n",
              "\n",
              "    .dataframe tbody tr th {\n",
              "        vertical-align: top;\n",
              "    }\n",
              "\n",
              "    .dataframe thead th {\n",
              "        text-align: right;\n",
              "    }\n",
              "</style>\n",
              "<table border=\"1\" class=\"dataframe\">\n",
              "  <thead>\n",
              "    <tr style=\"text-align: right;\">\n",
              "      <th></th>\n",
              "      <th>event_id</th>\n",
              "      <th>event</th>\n",
              "    </tr>\n",
              "  </thead>\n",
              "  <tbody>\n",
              "    <tr>\n",
              "      <th>0</th>\n",
              "      <td>12</td>\n",
              "      <td>DIAG_041</td>\n",
              "    </tr>\n",
              "    <tr>\n",
              "      <th>1</th>\n",
              "      <td>103</td>\n",
              "      <td>DIAG_276</td>\n",
              "    </tr>\n",
              "    <tr>\n",
              "      <th>2</th>\n",
              "      <td>262</td>\n",
              "      <td>DIAG_518</td>\n",
              "    </tr>\n",
              "    <tr>\n",
              "      <th>3</th>\n",
              "      <td>285</td>\n",
              "      <td>DIAG_560</td>\n",
              "    </tr>\n",
              "    <tr>\n",
              "      <th>4</th>\n",
              "      <td>290</td>\n",
              "      <td>DIAG_567</td>\n",
              "    </tr>\n",
              "    <tr>\n",
              "      <th>5</th>\n",
              "      <td>292</td>\n",
              "      <td>DIAG_569</td>\n",
              "    </tr>\n",
              "    <tr>\n",
              "      <th>6</th>\n",
              "      <td>359</td>\n",
              "      <td>DIAG_707</td>\n",
              "    </tr>\n",
              "    <tr>\n",
              "      <th>7</th>\n",
              "      <td>416</td>\n",
              "      <td>DIAG_785</td>\n",
              "    </tr>\n",
              "    <tr>\n",
              "      <th>8</th>\n",
              "      <td>39</td>\n",
              "      <td>DIAG_155</td>\n",
              "    </tr>\n",
              "    <tr>\n",
              "      <th>9</th>\n",
              "      <td>225</td>\n",
              "      <td>DIAG_456</td>\n",
              "    </tr>\n",
              "    <tr>\n",
              "      <th>10</th>\n",
              "      <td>275</td>\n",
              "      <td>DIAG_537</td>\n",
              "    </tr>\n",
              "    <tr>\n",
              "      <th>11</th>\n",
              "      <td>294</td>\n",
              "      <td>DIAG_571</td>\n",
              "    </tr>\n",
              "    <tr>\n",
              "      <th>12</th>\n",
              "      <td>326</td>\n",
              "      <td>DIAG_608</td>\n",
              "    </tr>\n",
              "    <tr>\n",
              "      <th>13</th>\n",
              "      <td>267</td>\n",
              "      <td>DIAG_529</td>\n",
              "    </tr>\n",
              "    <tr>\n",
              "      <th>14</th>\n",
              "      <td>93</td>\n",
              "      <td>DIAG_263</td>\n",
              "    </tr>\n",
              "  </tbody>\n",
              "</table>\n",
              "</div>"
            ],
            "text/plain": [
              "    event_id     event\n",
              "0         12  DIAG_041\n",
              "1        103  DIAG_276\n",
              "2        262  DIAG_518\n",
              "3        285  DIAG_560\n",
              "4        290  DIAG_567\n",
              "5        292  DIAG_569\n",
              "6        359  DIAG_707\n",
              "7        416  DIAG_785\n",
              "8         39  DIAG_155\n",
              "9        225  DIAG_456\n",
              "10       275  DIAG_537\n",
              "11       294  DIAG_571\n",
              "12       326  DIAG_608\n",
              "13       267  DIAG_529\n",
              "14        93  DIAG_263"
            ]
          },
          "execution_count": 356,
          "metadata": {},
          "output_type": "execute_result"
        }
      ],
      "source": [
        "print(\"Details of patient visit:\")\n",
        "get_patient_visit(3, 0)"
      ]
    },
    {
      "cell_type": "markdown",
      "metadata": {
        "id": "I7p0RBXqY0cu"
      },
      "source": [
        "### 4. Padding and masking:\n",
        "\n",
        "- **Padding:** inserts 0 to each visit to fill the gap between this visit and visit with highest length. We do that to have same dimensions across all sequences.\n",
        "- **Masking:** creates a boolean mask to indicate which element was added.\n",
        "- **Reversing:** according to paper we have to reverse the data to achieve **\"reverse time attention mechanism\"**. We do reversing only on actual data not the padding."
      ]
    },
    {
      "cell_type": "code",
      "execution_count": 357,
      "metadata": {
        "id": "SzhAaSi8Y-uh"
      },
      "outputs": [],
      "source": [
        "def collate_fn(data):\n",
        "\n",
        "    sequences, labels = zip(*data)\n",
        "\n",
        "    num_patients = len(sequences)\n",
        "    max_num_visits = 0\n",
        "    max_num_codes = 0\n",
        "\n",
        "    for patient in sequences:\n",
        "        max_num_visits = max(max_num_visits, len(patient))\n",
        "        for visit in patient:\n",
        "            max_num_codes = max(max_num_codes, len(visit))\n",
        "\n",
        "    shape = (num_patients, max_num_visits, max_num_codes)\n",
        "\n",
        "    y = torch.tensor(labels, dtype=torch.float)\n",
        "    x = torch.zeros(shape, dtype=torch.long)\n",
        "    rev_x = torch.zeros(shape, dtype=torch.long)\n",
        "    masks = torch.zeros(shape, dtype=torch.bool)\n",
        "    rev_masks = torch.zeros(shape, dtype=torch.bool)\n",
        "\n",
        "    for i, patient in enumerate(sequences):\n",
        "        for j, visit in enumerate(patient):\n",
        "\n",
        "            x[i,j,:len(visit)] = torch.tensor(visit, dtype=torch.long)\n",
        "            masks[i,j, :len(visit)] = 1\n",
        "\n",
        "            rev_x[i, len(patient) - j - 1, :len(visit)] = torch.tensor(visit, dtype=torch.long)\n",
        "            rev_masks[i, len(patient) - j - 1, :len(visit)] = 1\n",
        "            \n",
        "    \n",
        "    return x, masks, rev_x, rev_masks, y"
      ]
    },
    {
      "cell_type": "markdown",
      "metadata": {},
      "source": [
        "**Loader for train and validation:**"
      ]
    },
    {
      "cell_type": "code",
      "execution_count": 358,
      "metadata": {},
      "outputs": [],
      "source": [
        "def load_data(train_dataset, val_dataset, collate_fn):\n",
        "\n",
        "    batch_size = 32\n",
        "\n",
        "    train_loader = torch.utils.data.DataLoader(\n",
        "        train_dataset, \n",
        "        batch_size=batch_size, \n",
        "        shuffle=True, \n",
        "        collate_fn=collate_fn\n",
        "    )\n",
        "    \n",
        "    val_loader = torch.utils.data.DataLoader(\n",
        "        val_dataset, \n",
        "        batch_size=batch_size, \n",
        "        shuffle=True, \n",
        "        collate_fn=collate_fn\n",
        "    )\n",
        "    \n",
        "    return train_loader, val_loader"
      ]
    },
    {
      "cell_type": "markdown",
      "metadata": {},
      "source": [
        "**Create a class for custom dataset:**"
      ]
    },
    {
      "cell_type": "code",
      "execution_count": 359,
      "metadata": {},
      "outputs": [],
      "source": [
        "class CustomDataset(torch.utils.data.Dataset):\n",
        "    def __init__(self, seqs, hfs):\n",
        "        self.x = seqs\n",
        "        self.y = hfs\n",
        "    \n",
        "\n",
        "    def __len__(self):\n",
        "        return len(self.x)\n",
        "    \n",
        "\n",
        "    def __getitem__(self, index):\n",
        "        return (self.x[index], self.y[index])"
      ]
    },
    {
      "cell_type": "code",
      "execution_count": 360,
      "metadata": {},
      "outputs": [],
      "source": [
        "dataset = CustomDataset(seqs, hfs)\n",
        "\n",
        "split = int(len(dataset)*0.8)\n",
        "lengths = [split, len(dataset) - split]\n",
        "\n",
        "train_dataset, val_dataset = torch.utils.data.dataset.random_split(dataset, lengths)\n",
        "\n",
        "train_loader, val_loader = load_data(train_dataset, val_dataset, collate_fn)"
      ]
    },
    {
      "cell_type": "markdown",
      "metadata": {
        "id": "Mff6VKOmaUSU"
      },
      "source": [
        "# **RETAIN model**"
      ]
    },
    {
      "cell_type": "markdown",
      "metadata": {
        "id": "yN_kbNHnbQmc"
      },
      "source": [
        "### 5. Custom layers\n",
        "- **Alpha attention:** What are the important visits. Alpha attention is a scalar for the i-th visit, tells you the importance of the i-th visit.\n",
        "- **Beta attention:** Which are the important features within a visit. Beta attention is a vector.\n",
        "- Attention sum\n",
        "- Sum embeddings with applied mask"
      ]
    },
    {
      "cell_type": "code",
      "execution_count": 361,
      "metadata": {
        "id": "Bvkxfr3Iaw5z"
      },
      "outputs": [],
      "source": [
        "class AlphaAttention(torch.nn.Module):\n",
        "\n",
        "    def __init__(self, hidden_dim):\n",
        "        super().__init__()\n",
        "        self.a_att = nn.Linear(hidden_dim, 1)\n",
        "\n",
        "\n",
        "    def forward(self, g):\n",
        "        alpha = self.a_att(g)\n",
        "        alpha = torch.softmax(alpha, 1)\n",
        "        return alpha\n",
        "\n",
        "\n",
        "class BetaAttention(torch.nn.Module):\n",
        "\n",
        "    def __init__(self, hidden_dim):\n",
        "        super().__init__()\n",
        "        self.b_att = nn.Linear(hidden_dim, hidden_dim)\n",
        "\n",
        "\n",
        "    def forward(self, h):\n",
        "        beta = self.b_att(h)\n",
        "        beta = torch.tanh(beta)\n",
        "        return beta\n",
        "\n",
        "\n",
        "def attention_sum(alpha, beta, rev_v, rev_masks):\n",
        "    c = (torch.sum(rev_masks, -1) > 0).type(torch.float)\n",
        "    c = c.unsqueeze(-1)\n",
        "    c = torch.sum(alpha * beta * rev_v * c, dim=1)\n",
        "    return c\n",
        "\n",
        "\n",
        "def sum_embeddings_with_mask(x, masks):\n",
        "    x = x * masks.unsqueeze(-1)\n",
        "    x = torch.sum(x, dim = -2)\n",
        "    return x"
      ]
    },
    {
      "cell_type": "markdown",
      "metadata": {
        "id": "uMggOiEEboO0"
      },
      "source": [
        "### 6. RETAIN model architecture"
      ]
    },
    {
      "cell_type": "code",
      "execution_count": 362,
      "metadata": {
        "id": "0QAB2bSSbtpI"
      },
      "outputs": [],
      "source": [
        "class RETAIN(nn.Module):\n",
        "    \n",
        "    def __init__(self, num_codes, embedding_dim=128):\n",
        "        super().__init__()\n",
        "\n",
        "        self.embedding = nn.Embedding(num_codes, embedding_dim)\n",
        "\n",
        "        self.rnn_a = nn.GRU(embedding_dim, embedding_dim, batch_first=True)\n",
        "        self.rnn_b = nn.GRU(embedding_dim, embedding_dim, batch_first=True)\n",
        "\n",
        "        self.att_a = AlphaAttention(embedding_dim)\n",
        "        self.att_b = BetaAttention(embedding_dim)\n",
        "\n",
        "        self.fc = nn.Linear(embedding_dim, 1)\n",
        "\n",
        "        self.sigmoid = nn.Sigmoid()\n",
        "\n",
        "\n",
        "    def forward(self, x, masks, rev_x, rev_masks):\n",
        "\n",
        "        rev_x = self.embedding(rev_x)\n",
        "        rev_x = sum_embeddings_with_mask(rev_x, rev_masks)\n",
        "\n",
        "        g, _ = self.rnn_a(rev_x)\n",
        "        h, _ = self.rnn_b(rev_x)\n",
        "\n",
        "        alpha = self.att_a(g)\n",
        "        beta = self.att_b(h)\n",
        "\n",
        "        c = attention_sum(alpha, beta, rev_x, rev_masks)\n",
        "\n",
        "        logits = self.fc(c)\n",
        "        probs = self.sigmoid(logits)\n",
        "        return probs.squeeze()\n",
        "    \n"
      ]
    },
    {
      "cell_type": "markdown",
      "metadata": {
        "id": "bCedt11vcOnU"
      },
      "source": [
        "### 7. Evaluation function"
      ]
    },
    {
      "cell_type": "code",
      "execution_count": 363,
      "metadata": {
        "id": "fkL6qAOycRrq"
      },
      "outputs": [],
      "source": [
        "from sklearn.metrics import precision_recall_fscore_support, roc_auc_score\n",
        "\n",
        "\n",
        "def eval(model, val_loader):\n",
        "\n",
        "    \n",
        "    y_pred = torch.LongTensor()\n",
        "    y_score = torch.Tensor()\n",
        "    y_true = torch.LongTensor()\n",
        "\n",
        "    model.eval()\n",
        "\n",
        "    for x, masks, rev_x, rev_masks, y in val_loader:\n",
        "        y_logit = model(x, masks, rev_x, rev_masks)\n",
        "\n",
        "        y_hat = y_logit >= 0.5\n",
        "\n",
        "        y_score = torch.cat((y_score,  y_logit.detach().to('cpu')), dim=0)\n",
        "        y_pred = torch.cat((y_pred,  y_hat.detach().to('cpu')), dim=0)\n",
        "        y_true = torch.cat((y_true, y.detach().to('cpu')), dim=0)\n",
        "    \n",
        "    p, r, f, _ = precision_recall_fscore_support(y_true, y_pred, average='binary')\n",
        "    roc_auc = roc_auc_score(y_true, y_score)\n",
        "    \n",
        "    return p, r, f, roc_auc\n",
        "\n"
      ]
    },
    {
      "cell_type": "markdown",
      "metadata": {
        "id": "aEdfIsylcgKF"
      },
      "source": [
        "### 8. Train the model"
      ]
    },
    {
      "cell_type": "code",
      "execution_count": 387,
      "metadata": {
        "colab": {
          "base_uri": "https://localhost:8080/"
        },
        "id": "lRv0D3BwcjGg",
        "outputId": "ae4df602-9860-4209-cb43-c3b4e7b7dbb4"
      },
      "outputs": [
        {
          "name": "stdout",
          "output_type": "stream",
          "text": [
            "RETAIN(\n",
            "  (embedding): Embedding(619, 128)\n",
            "  (rnn_a): GRU(128, 128, batch_first=True)\n",
            "  (rnn_b): GRU(128, 128, batch_first=True)\n",
            "  (att_a): AlphaAttention(\n",
            "    (a_att): Linear(in_features=128, out_features=1, bias=True)\n",
            "  )\n",
            "  (att_b): BetaAttention(\n",
            "    (b_att): Linear(in_features=128, out_features=128, bias=True)\n",
            "  )\n",
            "  (fc): Linear(in_features=128, out_features=1, bias=True)\n",
            "  (sigmoid): Sigmoid()\n",
            ")\n",
            "Epoch: 0 \t Training Loss:  0.638744, Validation precision: 0.72, recall:0.69, f-score: 0.70, roc_auc: 0.72\n",
            "Epoch: 1 \t Training Loss:  0.427312, Validation precision: 0.75, recall:0.78, f-score: 0.76, roc_auc: 0.76\n",
            "Epoch: 2 \t Training Loss:  0.251399, Validation precision: 0.76, recall:0.77, f-score: 0.76, roc_auc: 0.76\n",
            "Epoch: 3 \t Training Loss:  0.128183, Validation precision: 0.75, recall:0.78, f-score: 0.77, roc_auc: 0.76\n",
            "Epoch: 4 \t Training Loss:  0.059215, Validation precision: 0.75, recall:0.78, f-score: 0.76, roc_auc: 0.77\n",
            "Epoch: 5 \t Training Loss:  0.029711, Validation precision: 0.76, recall:0.77, f-score: 0.76, roc_auc: 0.77\n",
            "Epoch: 6 \t Training Loss:  0.016554, Validation precision: 0.76, recall:0.77, f-score: 0.77, roc_auc: 0.77\n",
            "Epoch: 7 \t Training Loss:  0.011021, Validation precision: 0.77, recall:0.77, f-score: 0.77, roc_auc: 0.77\n",
            "Epoch: 8 \t Training Loss:  0.007643, Validation precision: 0.77, recall:0.78, f-score: 0.77, roc_auc: 0.77\n",
            "Epoch: 9 \t Training Loss:  0.005614, Validation precision: 0.77, recall:0.78, f-score: 0.77, roc_auc: 0.77\n",
            "Epoch: 10 \t Training Loss:  0.004389, Validation precision: 0.77, recall:0.80, f-score: 0.78, roc_auc: 0.77\n",
            "Epoch: 11 \t Training Loss:  0.003471, Validation precision: 0.77, recall:0.79, f-score: 0.78, roc_auc: 0.77\n",
            "Epoch: 12 \t Training Loss:  0.002803, Validation precision: 0.77, recall:0.79, f-score: 0.78, roc_auc: 0.77\n",
            "Epoch: 13 \t Training Loss:  0.002328, Validation precision: 0.77, recall:0.80, f-score: 0.78, roc_auc: 0.77\n",
            "Epoch: 14 \t Training Loss:  0.001969, Validation precision: 0.77, recall:0.81, f-score: 0.79, roc_auc: 0.77\n",
            "Epoch: 15 \t Training Loss:  0.001659, Validation precision: 0.77, recall:0.80, f-score: 0.78, roc_auc: 0.77\n",
            "Epoch: 16 \t Training Loss:  0.001442, Validation precision: 0.77, recall:0.81, f-score: 0.79, roc_auc: 0.77\n",
            "Epoch: 17 \t Training Loss:  0.001256, Validation precision: 0.77, recall:0.81, f-score: 0.79, roc_auc: 0.77\n",
            "Epoch: 18 \t Training Loss:  0.001108, Validation precision: 0.77, recall:0.81, f-score: 0.79, roc_auc: 0.77\n",
            "Epoch: 19 \t Training Loss:  0.000981, Validation precision: 0.77, recall:0.81, f-score: 0.79, roc_auc: 0.77\n"
          ]
        },
        {
          "data": {
            "text/plain": [
              "0.77"
            ]
          },
          "execution_count": 387,
          "metadata": {},
          "output_type": "execute_result"
        }
      ],
      "source": [
        "retain = RETAIN(num_codes = len(types))\n",
        "print(retain)\n",
        "\n",
        "criterion = nn.BCELoss()\n",
        "optimizer = torch.optim.Adam(retain.parameters(), lr=1e-3)\n",
        "n_epochs = 20\n",
        "\n",
        "history = []\n",
        "\n",
        "\n",
        "\n",
        "def train(model, train_loader, val_loader, n_epochs):\n",
        "\n",
        "    model.train()\n",
        "    \n",
        "    for epoch in range(n_epochs):\n",
        "\n",
        "        train_loss = 0\n",
        "\n",
        "        for x, masks, rev_x, rev_masks, y in train_loader:\n",
        "            optimizer.zero_grad()\n",
        "            y_hat = model(x, masks, rev_x, rev_masks)\n",
        "            loss = criterion(y_hat, y)\n",
        "            loss.backward()\n",
        "            optimizer.step()\n",
        "            train_loss += loss.item()\n",
        "\n",
        "\n",
        "        \n",
        "        train_loss = train_loss / len(train_loader)\n",
        "        p, r, f, roc_auc = eval(model, val_loader)\n",
        "        history.append([p,r,f,roc_auc])\n",
        "        print('Epoch: {} \\t Training Loss:  {:.6f}, Validation precision: {:.2f}, recall:{:.2f}, f-score: {:.2f}, roc_auc: {:.2f}'.format(epoch, train_loss, p, r, f, roc_auc))\n",
        "\n",
        "    return round(roc_auc, 2)\n",
        "\n",
        "\n",
        "train(retain, train_loader, val_loader, n_epochs)"
      ]
    },
    {
      "cell_type": "markdown",
      "metadata": {
        "id": "bCI7If71wajf"
      },
      "source": [
        "### 9. Evaluate\n",
        "\n",
        "*Recall = True Positives / (True Positives + False Negatives)*\n",
        "\n",
        "Higher the recall the higher the ability of network to correctly identify true positives. In case of heart failure it's important. Incorrectly predicting false positives is safe because additional diagnosis for such patient won't cause harm."
      ]
    },
    {
      "cell_type": "code",
      "execution_count": 390,
      "metadata": {},
      "outputs": [
        {
          "data": {
            "image/png": "[encoded data removed]",
            "text/plain": [
              "<Figure size 432x288 with 1 Axes>"
            ]
          },
          "metadata": {
            "needs_background": "light"
          },
          "output_type": "display_data"
        }
      ],
      "source": [
        "plt.plot(history)\n",
        "plt.legend(['Precision', 'Recall', 'F-Score', 'ROC AUC'])\n",
        "plt.show()"
      ]
    },
    {
      "cell_type": "code",
      "execution_count": 391,
      "metadata": {
        "colab": {
          "base_uri": "https://localhost:8080/"
        },
        "id": "19YF4dZmyc7K",
        "outputId": "e3a55436-5c48-467b-b4d7-b241617eeb10"
      },
      "outputs": [
        {
          "name": "stdout",
          "output_type": "stream",
          "text": [
            "Precision = 0.7741935483870968 Recall = 0.8135593220338984 f-score = 0.7933884297520662  roc_auc = 0.7728916907813146\n",
            "prediction = True\t y = False\t which is incorrect\t y_hat = 0.9988961219787598\n",
            "prediction = True\t y = True\t which is correct\t y_hat = 0.9999998807907104\n",
            "prediction = True\t y = True\t which is correct\t y_hat = 0.9837378263473511\n",
            "prediction = True\t y = True\t which is correct\t y_hat = 0.9956557750701904\n",
            "prediction = True\t y = True\t which is correct\t y_hat = 0.981170654296875\n",
            "prediction = False\t y = False\t which is correct\t y_hat = 0.011174116283655167\n",
            "prediction = True\t y = True\t which is correct\t y_hat = 0.7616040110588074\n"
          ]
        }
      ],
      "source": [
        "print(\"Precision = {} Recall = {} f-score = {}  roc_auc = {}\".format(*eval(retain, val_loader)))\n",
        "\n",
        "\n",
        "for x, masks, rev_x, rev_masks, y in val_loader:\n",
        "    y_hat = retain(x, masks, rev_x, rev_masks)\n",
        "    \n",
        "    y_hat_single = y_hat[0]\n",
        "    pred = y_hat_single > 0.5\n",
        "\n",
        "    print(f\"prediction = {pred}\\t y = {bool(y[0])}\\t which is {'correct' if pred == y[0] else 'incorrect'}\\t y_hat = {y_hat_single}\")\n"
      ]
    },
    {
      "cell_type": "markdown",
      "metadata": {
        "id": "V_QyeyXV3LeT"
      },
      "source": [
        "### 10. Save the model"
      ]
    },
    {
      "cell_type": "code",
      "execution_count": 389,
      "metadata": {
        "id": "awQNO4Mawgk-"
      },
      "outputs": [],
      "source": [
        "torch.save(retain.state_dict(), \"model.pt\")"
      ]
    }
  ],
  "metadata": {
    "accelerator": "GPU",
    "colab": {
      "provenance": []
    },
    "gpuClass": "standard",
    "kernelspec": {
      "display_name": "Python 3.9.6 64-bit",
      "language": "python",
      "name": "python3"
    },
    "language_info": {
      "codemirror_mode": {
        "name": "ipython",
        "version": 3
      },
      "file_extension": ".py",
      "mimetype": "text/x-python",
      "name": "python",
      "nbconvert_exporter": "python",
      "pygments_lexer": "ipython3",
      "version": "3.9.6"
    },
    "vscode": {
      "interpreter": {
        "hash": "11938c6bc6919ae2720b4d5011047913343b08a43b18698fd82dedb0d4417594"
      }
    }
  },
  "nbformat": 4,
  "nbformat_minor": 0
}
